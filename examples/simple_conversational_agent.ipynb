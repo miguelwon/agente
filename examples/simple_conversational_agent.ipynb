{
 "cells": [
  {
   "cell_type": "markdown",
   "metadata": {},
   "source": [
    "# Very simple agent\n",
    "\n",
    "This notebook show how to create a very simple conversation agent, with no tools."
   ]
  },
  {
   "cell_type": "markdown",
   "metadata": {},
   "source": [
    "### Let's start by importing the necessary libraries and set the api keys"
   ]
  },
  {
   "cell_type": "code",
   "execution_count": 1,
   "metadata": {},
   "outputs": [
    {
     "data": {
      "text/plain": [
       "True"
      ]
     },
     "execution_count": 1,
     "metadata": {},
     "output_type": "execute_result"
    }
   ],
   "source": [
    "from dotenv import load_dotenv\n",
    "\n",
    "from typing import List\n",
    "from agente.core.base import BaseAgent\n",
    "\n",
    "## Load and set environment variables from .env file\n",
    "load_dotenv()"
   ]
  },
  {
   "cell_type": "markdown",
   "metadata": {},
   "source": [
    "### This first example show how to create an agent without streaming.\n",
    "\n",
    "We note that even the agent is set to run without stream, we need to iterate over agent.run() to get the messages. \n",
    "This allows to stream in case a second agent with stream is called by the first parent agent."
   ]
  },
  {
   "cell_type": "code",
   "execution_count": 2,
   "metadata": {},
   "outputs": [],
   "source": [
    "class VerySimpleAgent(BaseAgent):\n",
    "    agent_name: str = \"VerySimpleAgent\"\n",
    "    system_prompt:str = \"You are a helpful AI assistant.\"\n",
    "    completion_kwargs: dict = {\n",
    "        \"model\": \"claude-sonnet-4-20250514\",\n",
    "        \"stream\": False,\n",
    "        \"temperature\": 1.0,\n",
    "        \"max_tokens\": 5000,\n",
    "        \"reasoning_effort\":\"medium\"\n",
    "        # \"thinking\":{\"type\": \"enabled\", \"budget_tokens\": 1024}\n",
    "    }\n",
    "    \n",
    "agent = VerySimpleAgent()\n",
    "agent.add_message(\"user\", \"Please write me a funny joke.\")"
   ]
  },
  {
   "cell_type": "code",
   "execution_count": 3,
   "metadata": {},
   "outputs": [
    {
     "name": "stdout",
     "output_type": "stream",
     "text": [
      "Executing agent: VerySimpleAgent\n"
     ]
    },
    {
     "data": {
      "text/plain": [
       "[Response(call_id='chatcmpl-19c2dd33-7700-4156-a84a-b60b82da5045', agent_name='VerySimpleAgent', role='assistant', content=\"Why don't scientists trust atoms?\\n\\nBecause they make up everything! \\n\\n😄\", tool_calls=[], reasoning_content=\"I should write a clean, family-friendly joke that's likely to get a chuckle. Let me think of something with a good setup and punchline structure.\\n\\nHere's one about a library that I think works well:\", thinking_blocks=[ThinkingBlock(type='thinking', thinking=\"I should write a clean, family-friendly joke that's likely to get a chuckle. Let me think of something with a good setup and punchline structure.\\n\\nHere's one about a library that I think works well:\", signature='Eu8CCkYIBBgCKkDanHhihbjgQqPzXM4WNFzKsW4yeGmrIdeF30tl9nxTM67sqwwQeifeV/WX/JSpoVN1WStKSOVWwuWlgS1qPjvrEgx5/rcdfnrPcleUqJcaDPQBw9HLYqumNqKvjiIw/YeZB8enHF17nwdMMDhKb+phOLaBvwMy6nN3plRKKv6ev85NMsuDObqgSExFwpz9KtYB/foJgKRj5LcYdMeAz5hvJKLoIFdV70ku8CSs4m0gOARuuQNnZzJPiUyRyqo2G9WF5fthJCezPvBf57o2U+RAdloaqaESgRfcQ4p2CviryTHSjD2cGlzsBTQEsErV8lknn10+xEqSILI1kA+EvztYTv23QT95lmDMeUFEhpYcgdD11Ea8zE+2nvP9lmYb993UP0xEbra8zVWzBJPOI5Vw3FDOF15RvJGWkYcFFpSX70a6Z99V26HHlH7bqPiOHyBaUfdxB3AOIgAuO0B2TUPL/Co6pfwxExgB', data=None)], usage=Usage(completion_tokens=78, prompt_tokens=50, total_tokens=128), timestamp=datetime.datetime(2025, 6, 3, 13, 29, 49, 79323))]"
      ]
     },
     "execution_count": 3,
     "metadata": {},
     "output_type": "execute_result"
    }
   ],
   "source": [
    "responses = await agent.run()\n",
    "responses"
   ]
  },
  {
   "cell_type": "markdown",
   "metadata": {},
   "source": [
    "### The conversation history is stored as well:"
   ]
  },
  {
   "cell_type": "code",
   "execution_count": 4,
   "metadata": {},
   "outputs": [
    {
     "data": {
      "text/plain": [
       "[Message(role='system', agent_name='VerySimpleAgent', content=[Content(type='text', text='You are a helpful AI assistant.')], tool_calls=None, tool_call_id=None, tool_name=None, hidden=False, id=None, usage=None, timestamp=datetime.datetime(2025, 6, 3, 13, 29, 41, 233720)),\n",
       " Message(role='user', agent_name='VerySimpleAgent', content=[Content(type='text', text='Please write me a funny joke.')], tool_calls=None, tool_call_id=None, tool_name=None, hidden=False, id=None, usage=None, timestamp=datetime.datetime(2025, 6, 3, 13, 29, 41, 233809)),\n",
       " Message(role='assistant', agent_name='VerySimpleAgent', content=[ContentThinking(type='thinking', text=\"I should write a clean, family-friendly joke that's likely to get a chuckle. Let me think of something with a good setup and punchline structure.\\n\\nHere's one about a library that I think works well:\", signature='Eu8CCkYIBBgCKkDanHhihbjgQqPzXM4WNFzKsW4yeGmrIdeF30tl9nxTM67sqwwQeifeV/WX/JSpoVN1WStKSOVWwuWlgS1qPjvrEgx5/rcdfnrPcleUqJcaDPQBw9HLYqumNqKvjiIw/YeZB8enHF17nwdMMDhKb+phOLaBvwMy6nN3plRKKv6ev85NMsuDObqgSExFwpz9KtYB/foJgKRj5LcYdMeAz5hvJKLoIFdV70ku8CSs4m0gOARuuQNnZzJPiUyRyqo2G9WF5fthJCezPvBf57o2U+RAdloaqaESgRfcQ4p2CviryTHSjD2cGlzsBTQEsErV8lknn10+xEqSILI1kA+EvztYTv23QT95lmDMeUFEhpYcgdD11Ea8zE+2nvP9lmYb993UP0xEbra8zVWzBJPOI5Vw3FDOF15RvJGWkYcFFpSX70a6Z99V26HHlH7bqPiOHyBaUfdxB3AOIgAuO0B2TUPL/Co6pfwxExgB'), Content(type='text', text=\"Why don't scientists trust atoms?\\n\\nBecause they make up everything! \\n\\n😄\")], tool_calls=None, tool_call_id=None, tool_name=None, hidden=False, id=None, usage=Usage(completion_tokens=78, prompt_tokens=50, total_tokens=128), timestamp=datetime.datetime(2025, 6, 3, 13, 29, 49, 79474))]"
      ]
     },
     "execution_count": 4,
     "metadata": {},
     "output_type": "execute_result"
    }
   ],
   "source": [
    "agent.conv_history.messages"
   ]
  },
  {
   "cell_type": "code",
   "execution_count": 5,
   "metadata": {},
   "outputs": [
    {
     "name": "stdout",
     "output_type": "stream",
     "text": [
      "Executing agent: VerySimpleAgent\n"
     ]
    },
    {
     "data": {
      "text/plain": [
       "[Response(call_id='chatcmpl-f9ad32e8-379c-4f4c-b79f-98effbcb08c4', agent_name='VerySimpleAgent', role='assistant', content='Why did the scarecrow win an award?\\n\\nBecause he was outstanding in his field!\\n\\n🌾😂', tool_calls=[], reasoning_content=\"The user wants another joke. I'll give them a different type of joke this time - maybe a pun or play on words that's different from the science joke I just told.\", thinking_blocks=[ThinkingBlock(type='thinking', thinking=\"The user wants another joke. I'll give them a different type of joke this time - maybe a pun or play on words that's different from the science joke I just told.\", signature='EsoCCkYIBBgCKkDuBktuEECX5/nC7lCDXFGXuLKAVoXIjvnIz4tj0eKC2pKoJykiHXQILC6aXUUXHY9ioHCJM+XJPuC9KWNh/lNkEgyJjq3QVo2VWO7nf+IaDHmNUpxRW44PTS6Z1yIwShsRo9pKZh0PfmOOdBGaheXGhtk04MQaA/YgTbNQNtDaZyr1mZ0S1QqhQRrNzSltKrEBUCEcCnN1eSpo+5XssuamCAaxBWnvJC5s5i0QRb3UGtS13hEZm7wtiz18K2vezRrAmfmowly6d747FTk35wHIIbM5GtU2WwouXQpieZrA7ByBNgCHYg7XabRQRES435NP5en0qY00BB4PQx5rLR1DOiXjQnUEl3XwwavvkKlGeKteNDAiUSkrRfYKBrH1o2pL4SHlt41ldcSrEkrlNi5ghqzTBTrJI3ZQZdpJs66tfeD5GAE=', data=None)], usage=Usage(completion_tokens=74, prompt_tokens=77, total_tokens=151), timestamp=datetime.datetime(2025, 6, 3, 13, 30, 21, 208278))]"
      ]
     },
     "execution_count": 5,
     "metadata": {},
     "output_type": "execute_result"
    }
   ],
   "source": [
    "agent.add_message(\"user\", \"Another one.\")\n",
    "responses = await agent.run()\n",
    "responses"
   ]
  },
  {
   "cell_type": "code",
   "execution_count": null,
   "metadata": {},
   "outputs": [],
   "source": []
  },
  {
   "cell_type": "markdown",
   "metadata": {},
   "source": [
    "## Streaming\n",
    "\n",
    "### Now let's create the same agent but with stream. For that we can use Gradio for better visualization"
   ]
  },
  {
   "cell_type": "code",
   "execution_count": 11,
   "metadata": {},
   "outputs": [
    {
     "name": "stderr",
     "output_type": "stream",
     "text": [
      "/Users/miguelwon/miniconda3/envs/agente/lib/python3.12/site-packages/tqdm/auto.py:21: TqdmWarning: IProgress not found. Please update jupyter and ipywidgets. See https://ipywidgets.readthedocs.io/en/stable/user_install.html\n",
      "  from .autonotebook import tqdm as notebook_tqdm\n"
     ]
    },
    {
     "name": "stdout",
     "output_type": "stream",
     "text": [
      "* Running on local URL:  http://127.0.0.1:7860\n",
      "* To create a public link, set `share=True` in `launch()`.\n"
     ]
    },
    {
     "data": {
      "text/html": [
       "<div><iframe src=\"http://127.0.0.1:7860/\" width=\"100%\" height=\"500\" allow=\"autoplay; camera; microphone; clipboard-read; clipboard-write;\" frameborder=\"0\" allowfullscreen></iframe></div>"
      ],
      "text/plain": [
       "<IPython.core.display.HTML object>"
      ]
     },
     "metadata": {},
     "output_type": "display_data"
    },
    {
     "data": {
      "text/plain": []
     },
     "execution_count": 11,
     "metadata": {},
     "output_type": "execute_result"
    },
    {
     "name": "stdout",
     "output_type": "stream",
     "text": [
      "Executing agent: VerySimpleAgent\n",
      "Executing agent: VerySimpleAgent\n"
     ]
    }
   ],
   "source": [
    "import gradio as gr\n",
    "\n",
    "class VerySimpleAgent(BaseAgent):\n",
    "    agent_name: str = \"VerySimpleAgent\"\n",
    "    completion_kwargs: dict = {\n",
    "        \"model\": \"gpt-4o\",\n",
    "        \"stream\": True,\n",
    "        \"temperature\": 1.0,\n",
    "        \"max_tokens\": 500,\n",
    "    }\n",
    "\n",
    "\n",
    "def get_new_agent():\n",
    "    \"\"\"Create a fresh agent instance\"\"\"\n",
    "    new_agent = VerySimpleAgent()\n",
    "    return new_agent\n",
    "\n",
    "with gr.Blocks() as demo:\n",
    "    chatbot = gr.Chatbot(type=\"messages\")\n",
    "    msg = gr.Textbox()\n",
    "    clear = gr.Button(\"Clear\")\n",
    "\n",
    "    # Initialize with a function call instead of direct instantiation\n",
    "    main_agent = gr.State(value=None)\n",
    "\n",
    "    def user(user_message, agent):\n",
    "        if agent is None:\n",
    "            agent = get_new_agent()\n",
    "        agent.add_message(\"user\", user_message)\n",
    "        return \"\", [{\"role\": \"user\", \"content\": user_message}], agent\n",
    "\n",
    "    async def bot(history, agent):\n",
    "        if agent is None:\n",
    "            agent = get_new_agent()\n",
    "        if not history:\n",
    "            yield [], agent\n",
    "            return\n",
    "        \n",
    "        history.append({\"role\": \"assistant\", \"content\": \"\"})\n",
    "        response_generator = await agent.run(stream=True)\n",
    "        async for chunk in response_generator:\n",
    "            if chunk.content:\n",
    "                history[-1][\"content\"] += chunk.content\n",
    "                yield history, agent\n",
    "\n",
    "    def reset_state():\n",
    "        return None, get_new_agent()\n",
    "\n",
    "    msg.submit(user, [msg, main_agent], [msg, chatbot, main_agent]).then(\n",
    "        bot, [chatbot, main_agent], [chatbot, main_agent]\n",
    "    )\n",
    "    clear.click(reset_state, None, [chatbot, main_agent])\n",
    "\n",
    "demo.launch()"
   ]
  },
  {
   "cell_type": "code",
   "execution_count": null,
   "metadata": {},
   "outputs": [],
   "source": []
  },
  {
   "cell_type": "code",
   "execution_count": 8,
   "metadata": {},
   "outputs": [],
   "source": [
    "from agente.core.decorators import function_tool\n",
    "import random"
   ]
  },
  {
   "cell_type": "code",
   "execution_count": 35,
   "metadata": {},
   "outputs": [],
   "source": [
    "\n",
    "class MainAgent(BaseAgent):\n",
    "    agent_name: str = \"main_agent\"\n",
    "    \n",
    "    # @function_tool \n",
    "    # def random_topic(self):\n",
    "    #     \"\"\"Tool to get a random topic.\n",
    "    #     \"\"\"\n",
    "    #     topics = [\"programming\",\"science\",\"animals\",\"food\",\"sports\"]\n",
    "    #     topic = random.choice(topics)\n",
    "\n",
    "    #     return topic"
   ]
  },
  {
   "cell_type": "code",
   "execution_count": 36,
   "metadata": {},
   "outputs": [
    {
     "name": "stdout",
     "output_type": "stream",
     "text": [
      "Executing agent: main_agent\n"
     ]
    }
   ],
   "source": [
    "main_agent = MainAgent()\n",
    "main_agent.completion_kwargs[\"model\"] = \"claude-sonnet-4-20250514\"\n",
    "main_agent.completion_kwargs[\"reasoning_effort\"] = \"medium\"\n",
    "main_agent.completion_kwargs[\"temperature\"] = 1.0\n",
    "main_agent.add_message(role = \"user\", content = \"Generate a random topic.\")\n",
    "responses = await main_agent.run(max_retries=10)"
   ]
  },
  {
   "cell_type": "code",
   "execution_count": 37,
   "metadata": {},
   "outputs": [
    {
     "data": {
      "text/plain": [
       "[Message(role='user', agent_name='main_agent', content=[Content(type='text', text='Generate a random topic.')], tool_calls=None, tool_call_id=None, tool_name=None, hidden=False, id=None, usage=None, timestamp=datetime.datetime(2025, 6, 3, 16, 54, 51, 674741)),\n",
       " Message(role='assistant', agent_name='main_agent', content=[ContentThinking(type='thinking', text=\"I should generate a random topic that could be interesting to discuss. Let me think of something that's neither too mundane nor too specialized - something that could spark conversation or curiosity.\\n\\nSome options:\\n- The psychology of why people collect things\\n- How different cultures view time\\n- The history of street food\\n- Why some songs get stuck in our heads\\n- The art of letter writing in the digital age\\n- Urban wildlife adaptation\\n- The science behind why we yawn\\n\\nI'll go with one that's both relatable and has some depth to explore.\", signature='EsgFCkYIBBgCKkBrPKvLcWAutjUgR5QYo7G1K4V8wBkWl31/wSEvcMw4OXSRMqqw+tPh1UdImXGUu2xn1owwj0jcNPe/4tW64xzZEgxGvTNuPSfZefw3chIaDLhSZSRjga7wbSTF9SIw4EFjlmyQ0Wi+sh2O1qiYUA8T3397/gaxzKf27bnKnwK01+tMhHtEICL52gwPd+dJKq8Ed8tKgGGBXbfciYMyctbecXW9J8S0bj7PznL8/mk+3Wx+F3CsompwWzmQRQndDlaAZADeOKI/AFZx27WvUGstb3gnfYf7cTrbqSSqcPbGB8KeKHl4EwxaGeNYTIEvAq3UbjoXlKs3yuGjcAw8X+HhIuCyxcxIfDOYANrfjdv2KMzkXmHSwHg+15BZeWZiGB5JZ7MtZeTpB0zvOp3cd5gUBo+ZnH0KzVJ8d83E1tAJOa5YXrURHuFnkIo9XOB53ZiWES3I3sgb2S8j+7hk5rK6qrE3GCTNDfvMn2yCozZeGCciDbzZ/kKQ97IU+en0T8PGLIxW1Qm6CDocx9uK9FZyfjP96w/DlSLQ7ZlYH6dDOjTIhF9bXcOLohvB4yRDZcOLIfd5ogjyXlBVC8BAfjzVxxKwoVmUH1SuvMNSUe3RPrO5N11SWnLMxbwXay6s8E2NUy1khl8UKnOO8M3N8nrY91yXt5EWBmjuUNeEXWp3YrhFhGUijkF5VsXyz8xBN3N1XavO8Q/fjjRsmnyg2a3nnJ5/Yq0/8nEBtQr8loQ0uWGOsZFXDMYVItY+q9cbz4/tkYp7NNB3UX/rWV5qz5Hc3dfmF6BtDd8bTvJCZFGq79IO1l4MMINwX0Nh74kK8rxqm+T+IYRjxpjxTN7129gmifGO/cdHdSXUZFbh8jWUA13rq+m9MCbqpPvB2JeUtOF0abRiF+jddReArlCXbFIwLnS/qIEKQOugABALoV9s6RgB'), Content(type='text', text='**The lost art of getting genuinely lost**\\n\\nHow GPS and smartphones have changed our relationship with navigation, spatial awareness, and the unexpected discoveries that used to happen when we took wrong turns or explored without a clear destination.')], tool_calls=None, tool_call_id=None, tool_name=None, hidden=False, id=None, usage=Usage(completion_tokens=174, prompt_tokens=40, total_tokens=214), timestamp=datetime.datetime(2025, 6, 3, 16, 54, 57, 589453))]"
      ]
     },
     "execution_count": 37,
     "metadata": {},
     "output_type": "execute_result"
    }
   ],
   "source": [
    "main_agent.conv_history.messages"
   ]
  },
  {
   "cell_type": "code",
   "execution_count": 38,
   "metadata": {},
   "outputs": [
    {
     "name": "stderr",
     "output_type": "stream",
     "text": [
      "/var/folders/pp/vhr348yx1_vd7j7p3b6gf5gr0000gn/T/ipykernel_38787/800015913.py:1: PydanticDeprecatedSince20: The `dict` method is deprecated; use `model_dump` instead. Deprecated in Pydantic V2.0 to be removed in V3.0. See Pydantic V2 Migration Guide at https://errors.pydantic.dev/2.11/migration/\n",
      "  main_agent.conv_history.messages[0].dict()\n"
     ]
    },
    {
     "data": {
      "text/plain": [
       "{'role': 'user',\n",
       " 'agent_name': 'main_agent',\n",
       " 'content': [{'type': 'text', 'text': 'Generate a random topic.'}],\n",
       " 'tool_calls': None,\n",
       " 'tool_call_id': None,\n",
       " 'tool_name': None,\n",
       " 'hidden': False,\n",
       " 'id': None,\n",
       " 'usage': None,\n",
       " 'timestamp': datetime.datetime(2025, 6, 3, 16, 54, 51, 674741)}"
      ]
     },
     "execution_count": 38,
     "metadata": {},
     "output_type": "execute_result"
    }
   ],
   "source": [
    "main_agent.conv_history.messages[0].dict()"
   ]
  },
  {
   "cell_type": "code",
   "execution_count": 39,
   "metadata": {},
   "outputs": [
    {
     "name": "stderr",
     "output_type": "stream",
     "text": [
      "/var/folders/pp/vhr348yx1_vd7j7p3b6gf5gr0000gn/T/ipykernel_38787/3833547919.py:1: PydanticDeprecatedSince20: The `dict` method is deprecated; use `model_dump` instead. Deprecated in Pydantic V2.0 to be removed in V3.0. See Pydantic V2 Migration Guide at https://errors.pydantic.dev/2.11/migration/\n",
      "  main_agent.conv_history.messages[1].dict()\n"
     ]
    },
    {
     "data": {
      "text/plain": [
       "{'role': 'assistant',\n",
       " 'agent_name': 'main_agent',\n",
       " 'content': [{'type': 'thinking',\n",
       "   'text': \"I should generate a random topic that could be interesting to discuss. Let me think of something that's neither too mundane nor too specialized - something that could spark conversation or curiosity.\\n\\nSome options:\\n- The psychology of why people collect things\\n- How different cultures view time\\n- The history of street food\\n- Why some songs get stuck in our heads\\n- The art of letter writing in the digital age\\n- Urban wildlife adaptation\\n- The science behind why we yawn\\n\\nI'll go with one that's both relatable and has some depth to explore.\",\n",
       "   'signature': 'EsgFCkYIBBgCKkBrPKvLcWAutjUgR5QYo7G1K4V8wBkWl31/wSEvcMw4OXSRMqqw+tPh1UdImXGUu2xn1owwj0jcNPe/4tW64xzZEgxGvTNuPSfZefw3chIaDLhSZSRjga7wbSTF9SIw4EFjlmyQ0Wi+sh2O1qiYUA8T3397/gaxzKf27bnKnwK01+tMhHtEICL52gwPd+dJKq8Ed8tKgGGBXbfciYMyctbecXW9J8S0bj7PznL8/mk+3Wx+F3CsompwWzmQRQndDlaAZADeOKI/AFZx27WvUGstb3gnfYf7cTrbqSSqcPbGB8KeKHl4EwxaGeNYTIEvAq3UbjoXlKs3yuGjcAw8X+HhIuCyxcxIfDOYANrfjdv2KMzkXmHSwHg+15BZeWZiGB5JZ7MtZeTpB0zvOp3cd5gUBo+ZnH0KzVJ8d83E1tAJOa5YXrURHuFnkIo9XOB53ZiWES3I3sgb2S8j+7hk5rK6qrE3GCTNDfvMn2yCozZeGCciDbzZ/kKQ97IU+en0T8PGLIxW1Qm6CDocx9uK9FZyfjP96w/DlSLQ7ZlYH6dDOjTIhF9bXcOLohvB4yRDZcOLIfd5ogjyXlBVC8BAfjzVxxKwoVmUH1SuvMNSUe3RPrO5N11SWnLMxbwXay6s8E2NUy1khl8UKnOO8M3N8nrY91yXt5EWBmjuUNeEXWp3YrhFhGUijkF5VsXyz8xBN3N1XavO8Q/fjjRsmnyg2a3nnJ5/Yq0/8nEBtQr8loQ0uWGOsZFXDMYVItY+q9cbz4/tkYp7NNB3UX/rWV5qz5Hc3dfmF6BtDd8bTvJCZFGq79IO1l4MMINwX0Nh74kK8rxqm+T+IYRjxpjxTN7129gmifGO/cdHdSXUZFbh8jWUA13rq+m9MCbqpPvB2JeUtOF0abRiF+jddReArlCXbFIwLnS/qIEKQOugABALoV9s6RgB'},\n",
       "  {'type': 'text',\n",
       "   'text': '**The lost art of getting genuinely lost**\\n\\nHow GPS and smartphones have changed our relationship with navigation, spatial awareness, and the unexpected discoveries that used to happen when we took wrong turns or explored without a clear destination.'}],\n",
       " 'tool_calls': None,\n",
       " 'tool_call_id': None,\n",
       " 'tool_name': None,\n",
       " 'hidden': False,\n",
       " 'id': None,\n",
       " 'usage': {'completion_tokens': 174, 'prompt_tokens': 40, 'total_tokens': 214},\n",
       " 'timestamp': datetime.datetime(2025, 6, 3, 16, 54, 57, 589453)}"
      ]
     },
     "execution_count": 39,
     "metadata": {},
     "output_type": "execute_result"
    }
   ],
   "source": [
    "main_agent.conv_history.messages[1].dict()"
   ]
  },
  {
   "cell_type": "code",
   "execution_count": 40,
   "metadata": {},
   "outputs": [
    {
     "name": "stdout",
     "output_type": "stream",
     "text": [
      "Executing agent: main_agent\n"
     ]
    }
   ],
   "source": [
    "main_agent.add_message(role = \"user\", content = \"Another one.\")\n",
    "responses = await main_agent.run(max_retries=10)"
   ]
  },
  {
   "cell_type": "code",
   "execution_count": 42,
   "metadata": {},
   "outputs": [
    {
     "name": "stderr",
     "output_type": "stream",
     "text": [
      "/var/folders/pp/vhr348yx1_vd7j7p3b6gf5gr0000gn/T/ipykernel_38787/863773376.py:1: PydanticDeprecatedSince20: The `dict` method is deprecated; use `model_dump` instead. Deprecated in Pydantic V2.0 to be removed in V3.0. See Pydantic V2 Migration Guide at https://errors.pydantic.dev/2.11/migration/\n",
      "  main_agent.conv_history.messages[3].dict()\n"
     ]
    },
    {
     "data": {
      "text/plain": [
       "{'role': 'assistant',\n",
       " 'agent_name': 'main_agent',\n",
       " 'content': [{'type': 'thinking',\n",
       "   'text': \"I should generate another random topic that's different from the first one. Let me think of something completely unrelated - maybe something more concrete or creative.\",\n",
       "   'signature': 'EtACCkYIBBgCKkBH/MovmRFZd5icESBImq+W8Ptf/2qy25ADWHh41P1nxib6Saxjq1A2hOkUr3Fj7uc/qeipBvgY2FyhBQ4xcU2xEgx3n+nInTdhK8aMNQYaDA4PeDVTPFFr42t3pSIwTJ+7ZDfp0KOblIb6EIuj4OyBgU14IMtNM4sq2J0Ap2PtX+U05aMzgvn1WAHJGoT9KrcBASl1s6YKKkfF068rmsuOvEtJUdkdtLVPAoLEahCEFmG1BBo+f4Y1SG7IMyNZiPmuaKtSn4XhaJsNA2cFx6aEwY2Xia76tiwDshPV5TeW6XiVZeSClrIhwPg3DCUQwqoJsPt/hwCwJQYifliDFAmi66474/URt55XOEuZf7+13JcSvlMTjMTY4hf2k+kLYnlx7umkyPiSIeMWDZa1+wyDibdQzTVwP73QUVpIScZdTRAMKmE5KiDDGAE='},\n",
       "  {'type': 'text',\n",
       "   'text': \"**The secret lives of library books**\\n\\nThe fascinating journey of a single book through decades of different readers, the marginalia left behind, the places it's traveled, the homes it's lived in, and all the stories it could tell about human behavior and changing times.\"}],\n",
       " 'tool_calls': None,\n",
       " 'tool_call_id': None,\n",
       " 'tool_name': None,\n",
       " 'hidden': False,\n",
       " 'id': None,\n",
       " 'usage': {'completion_tokens': 97, 'prompt_tokens': 94, 'total_tokens': 191},\n",
       " 'timestamp': datetime.datetime(2025, 6, 3, 16, 56, 3, 693439)}"
      ]
     },
     "execution_count": 42,
     "metadata": {},
     "output_type": "execute_result"
    }
   ],
   "source": [
    "main_agent.conv_history.messages[3].dict()"
   ]
  },
  {
   "cell_type": "code",
   "execution_count": 26,
   "metadata": {},
   "outputs": [
    {
     "name": "stderr",
     "output_type": "stream",
     "text": [
      "/var/folders/pp/vhr348yx1_vd7j7p3b6gf5gr0000gn/T/ipykernel_38787/863773376.py:1: PydanticDeprecatedSince20: The `dict` method is deprecated; use `model_dump` instead. Deprecated in Pydantic V2.0 to be removed in V3.0. See Pydantic V2 Migration Guide at https://errors.pydantic.dev/2.11/migration/\n",
      "  main_agent.conv_history.messages[3].dict()\n"
     ]
    },
    {
     "data": {
      "text/plain": [
       "{'role': 'tool',\n",
       " 'agent_name': 'main_agent',\n",
       " 'content': [{'type': 'text', 'text': '\"animals\"'}],\n",
       " 'tool_calls': None,\n",
       " 'tool_call_id': 'toolu_01PF5764MMEK1m85R8R6agzJ',\n",
       " 'tool_name': None,\n",
       " 'hidden': False,\n",
       " 'id': None,\n",
       " 'usage': None,\n",
       " 'timestamp': datetime.datetime(2025, 6, 3, 15, 23, 7, 876146)}"
      ]
     },
     "execution_count": 26,
     "metadata": {},
     "output_type": "execute_result"
    }
   ],
   "source": [
    "main_agent.conv_history.messages[3].dict()"
   ]
  },
  {
   "cell_type": "code",
   "execution_count": 27,
   "metadata": {},
   "outputs": [
    {
     "name": "stderr",
     "output_type": "stream",
     "text": [
      "/var/folders/pp/vhr348yx1_vd7j7p3b6gf5gr0000gn/T/ipykernel_38787/3224363010.py:1: PydanticDeprecatedSince20: The `dict` method is deprecated; use `model_dump` instead. Deprecated in Pydantic V2.0 to be removed in V3.0. See Pydantic V2 Migration Guide at https://errors.pydantic.dev/2.11/migration/\n",
      "  main_agent.conv_history.messages[4].dict()\n"
     ]
    },
    {
     "data": {
      "text/plain": [
       "{'role': 'assistant',\n",
       " 'agent_name': 'main_agent',\n",
       " 'content': [{'type': 'text',\n",
       "   'text': 'Your random topic is: **Animals**\\n\\nThis is a broad and fascinating topic that could cover everything from wildlife conservation and animal behavior to pets, endangered species, marine life, or the role of animals in different ecosystems. What would you like to explore about animals?'}],\n",
       " 'tool_calls': None,\n",
       " 'tool_call_id': None,\n",
       " 'tool_name': None,\n",
       " 'hidden': False,\n",
       " 'id': None,\n",
       " 'usage': {'completion_tokens': 57, 'prompt_tokens': 425, 'total_tokens': 482},\n",
       " 'timestamp': datetime.datetime(2025, 6, 3, 15, 23, 10, 270382)}"
      ]
     },
     "execution_count": 27,
     "metadata": {},
     "output_type": "execute_result"
    }
   ],
   "source": [
    "main_agent.conv_history.messages[4].dict()"
   ]
  },
  {
   "cell_type": "code",
   "execution_count": 20,
   "metadata": {},
   "outputs": [
    {
     "name": "stdout",
     "output_type": "stream",
     "text": [
      "Executing agent: main_agent\n",
      "Executing tool: random_topic (agent: main_agent)\n",
      "Executing agent: main_agent\n"
     ]
    }
   ],
   "source": [
    "main_agent.add_message(role = \"user\", content = \"Another one.\")\n",
    "responses = await main_agent.run(max_retries=10)"
   ]
  },
  {
   "cell_type": "code",
   "execution_count": 21,
   "metadata": {},
   "outputs": [
    {
     "data": {
      "text/plain": [
       "[Message(role='user', agent_name='main_agent', content=[Content(type='text', text='Generate a random topic.')], tool_calls=None, tool_call_id=None, tool_name=None, hidden=False, id=None, usage=None, timestamp=datetime.datetime(2025, 6, 3, 15, 23, 5, 486742)),\n",
       " Message(role='assistant', agent_name='main_agent', content=[Content(type='text', text=\"I'll generate a random topic for you.\")], tool_calls=None, tool_call_id=None, tool_name=None, hidden=False, id=None, usage=Usage(completion_tokens=46, prompt_tokens=365, total_tokens=411), timestamp=datetime.datetime(2025, 6, 3, 15, 23, 7, 875725)),\n",
       " Message(role='assistant', agent_name='main_agent', content=[], tool_calls=[{'index': 1, 'function': {'arguments': '{}', 'name': 'random_topic'}, 'id': 'toolu_01PF5764MMEK1m85R8R6agzJ', 'type': 'function'}], tool_call_id=None, tool_name=None, hidden=False, id=None, usage=None, timestamp=datetime.datetime(2025, 6, 3, 15, 23, 7, 875756)),\n",
       " Message(role='tool', agent_name='main_agent', content=[Content(type='text', text='\"animals\"')], tool_calls=None, tool_call_id='toolu_01PF5764MMEK1m85R8R6agzJ', tool_name=None, hidden=False, id=None, usage=None, timestamp=datetime.datetime(2025, 6, 3, 15, 23, 7, 876146)),\n",
       " Message(role='assistant', agent_name='main_agent', content=[Content(type='text', text='Your random topic is: **Animals**\\n\\nThis is a broad and fascinating topic that could cover everything from wildlife conservation and animal behavior to pets, endangered species, marine life, or the role of animals in different ecosystems. What would you like to explore about animals?')], tool_calls=None, tool_call_id=None, tool_name=None, hidden=False, id=None, usage=Usage(completion_tokens=57, prompt_tokens=425, total_tokens=482), timestamp=datetime.datetime(2025, 6, 3, 15, 23, 10, 270382)),\n",
       " Message(role='user', agent_name='main_agent', content=[Content(type='text', text='Another one.')], tool_calls=None, tool_call_id=None, tool_name=None, hidden=False, id=None, usage=None, timestamp=datetime.datetime(2025, 6, 3, 15, 23, 13, 604239)),\n",
       " Message(role='assistant', agent_name='main_agent', content=[], tool_calls=[{'index': 0, 'function': {'arguments': '{}', 'name': 'random_topic'}, 'id': 'toolu_01S7BumPu7PNadpmSfhbTBdr', 'type': 'function'}], tool_call_id=None, tool_name=None, hidden=False, id=None, usage=None, timestamp=datetime.datetime(2025, 6, 3, 15, 23, 15, 240872)),\n",
       " Message(role='tool', agent_name='main_agent', content=[Content(type='text', text='\"sports\"')], tool_calls=None, tool_call_id='toolu_01S7BumPu7PNadpmSfhbTBdr', tool_name=None, hidden=False, id=None, usage=None, timestamp=datetime.datetime(2025, 6, 3, 15, 23, 15, 241144)),\n",
       " Message(role='assistant', agent_name='main_agent', content=[Content(type='text', text='Your random topic is: **Sports**\\n\\nThis topic opens up many possibilities - you could explore professional athletics, recreational activities, the history of different sports, sports psychology, fitness and training, Olympic games, team dynamics, or even the business side of sports. What aspect of sports interests you most?')], tool_calls=None, tool_call_id=None, tool_name=None, hidden=False, id=None, usage=Usage(completion_tokens=63, prompt_tokens=539, total_tokens=602), timestamp=datetime.datetime(2025, 6, 3, 15, 23, 20, 98645))]"
      ]
     },
     "execution_count": 21,
     "metadata": {},
     "output_type": "execute_result"
    }
   ],
   "source": [
    "main_agent.conv_history.messages"
   ]
  },
  {
   "cell_type": "code",
   "execution_count": null,
   "metadata": {},
   "outputs": [],
   "source": []
  }
 ],
 "metadata": {
  "kernelspec": {
   "display_name": "agente",
   "language": "python",
   "name": "python3"
  },
  "language_info": {
   "codemirror_mode": {
    "name": "ipython",
    "version": 3
   },
   "file_extension": ".py",
   "mimetype": "text/x-python",
   "name": "python",
   "nbconvert_exporter": "python",
   "pygments_lexer": "ipython3",
   "version": "3.12.9"
  }
 },
 "nbformat": 4,
 "nbformat_minor": 2
}
